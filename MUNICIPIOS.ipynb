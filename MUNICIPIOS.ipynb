{
  "nbformat": 4,
  "nbformat_minor": 0,
  "metadata": {
    "colab": {
      "name": "MUNICIPIOS.ipynb",
      "private_outputs": true,
      "provenance": [],
      "authorship_tag": "ABX9TyMd5OP085IeGUgJO2qoQN/C",
      "include_colab_link": true
    },
    "kernelspec": {
      "name": "python3",
      "display_name": "Python 3"
    },
    "language_info": {
      "name": "python"
    }
  },
  "cells": [
    {
      "cell_type": "markdown",
      "metadata": {
        "id": "view-in-github",
        "colab_type": "text"
      },
      "source": [
        "<a href=\"https://colab.research.google.com/github/DeboraOliver/Sending_mkt_emails/blob/main/MUNICIPIOS.ipynb\" target=\"_parent\"><img src=\"https://colab.research.google.com/assets/colab-badge.svg\" alt=\"Open In Colab\"/></a>"
      ]
    },
    {
      "cell_type": "code",
      "execution_count": null,
      "metadata": {
        "id": "PKOLD_QGwy7M"
      },
      "outputs": [],
      "source": [
        ""
      ]
    },
    {
      "cell_type": "code",
      "source": [
        "import os\n",
        "# import dload\n",
        "import pandas as pd\n",
        "import zipfile\n",
        "import requests\n",
        "\n"
      ],
      "metadata": {
        "id": "NBkXLYBsxQyb"
      },
      "execution_count": null,
      "outputs": []
    },
    {
      "cell_type": "code",
      "source": [
        "def empresa():\n",
        "\n",
        "  dirpath = os.getcwd()\n",
        "\n",
        "  file_path = dirpath + '/F.K03200$Z.D20514.MUNICCSV.zip'\n",
        "  with zipfile.ZipFile(file_path,\"r\") as zip_ref:\n",
        "      zip_ref.extractall(dirpath)\n",
        "\n",
        "  cidades = pd.read_csv('/content/F.K03200$Z.D20514.MUNICCSV', sep =\";\",  header=None, encoding='iso-8859-1')\n",
        "  cidades = cidades.rename(columns={0:'cod_cidade',1:'cidade'})\n",
        "\n",
        "  regiao_17 = cidades[(cidades['cidade'].str.contains('ADOLFO|MENDONCA|SAO JOSE DO RIO PRETO|UCHOA|JOSE BONIFACIO|NOVA GRANADA', na =False))]\n",
        "  regiao_17['cod_cidade'].unique()\n",
        "  empresas = pd.read_csv('/content/teste.csv', sep =\",\", encoding='utf-8')\n",
        "  df_completo = pd.merge(empresas,cidades, how=\"left\", left_on=['city'], right_on=['cod_cidade'])\n",
        "\n",
        "  return df_completo\n",
        "\n",
        "\n",
        "completo = empresa()\n",
        "len(completo[completo['cidade']==\"ADOLFO\"])"
      ],
      "metadata": {
        "id": "_ovQVYhKxQ5s"
      },
      "execution_count": null,
      "outputs": []
    },
    {
      "cell_type": "code",
      "source": [
        ""
      ],
      "metadata": {
        "id": "zZ0lYuzXyY_4"
      },
      "execution_count": null,
      "outputs": []
    },
    {
      "cell_type": "code",
      "source": [
        ""
      ],
      "metadata": {
        "id": "h9GuB1-lykEY"
      },
      "execution_count": null,
      "outputs": []
    },
    {
      "cell_type": "code",
      "source": [
        ""
      ],
      "metadata": {
        "id": "4CHqX1VQy9L7"
      },
      "execution_count": null,
      "outputs": []
    },
    {
      "cell_type": "code",
      "source": [
        ""
      ],
      "metadata": {
        "id": "Agg_NAw70Qvo"
      },
      "execution_count": null,
      "outputs": []
    },
    {
      "cell_type": "code",
      "source": [
        ""
      ],
      "metadata": {
        "id": "bm9kknos7Bxt"
      },
      "execution_count": null,
      "outputs": []
    },
    {
      "cell_type": "code",
      "source": [
        ""
      ],
      "metadata": {
        "id": "xYspue3W8xry"
      },
      "execution_count": null,
      "outputs": []
    },
    {
      "cell_type": "code",
      "source": [
        ""
      ],
      "metadata": {
        "id": "BDwKY8IE8qDx"
      },
      "execution_count": null,
      "outputs": []
    }
  ]
}